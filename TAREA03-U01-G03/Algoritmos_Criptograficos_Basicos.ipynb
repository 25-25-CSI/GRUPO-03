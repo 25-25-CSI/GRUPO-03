{
  "nbformat": 4,
  "nbformat_minor": 0,
  "metadata": {
    "colab": {
      "provenance": [],
      "collapsed_sections": [
        "XPGjvZTSdmZH",
        "I6t3GjPBecCh",
        "aNl5VbhYfKk6",
        "QxQDPE8wgWlU",
        "JfR_YelPgrK-",
        "yaKhVkjMhB0r"
      ]
    },
    "kernelspec": {
      "name": "python3",
      "display_name": "Python 3"
    },
    "language_info": {
      "name": "python"
    }
  },
  "cells": [
    {
      "cell_type": "markdown",
      "source": [
        "A continuación se presentan los códigos respectivos a los ejercicios planteados en la Tarea 03 de la Unidad 01 del aula virtual."
      ],
      "metadata": {
        "id": "cchPtVy4hUvG"
      }
    },
    {
      "cell_type": "markdown",
      "source": [
        "**Grupo 3 - Integrantes**\n",
        "\n",
        "*   Arias Joffre\n",
        "* Fiallos Fátima\n",
        "* Flores Byron\n",
        "* Hurtado Kevin\n",
        "* Lechón Cristian\n",
        "* Pila Jordi\n",
        "* Pujota Angelo\n",
        "* Tipán Edgar"
      ],
      "metadata": {
        "id": "SmAyc_ybdupS"
      }
    },
    {
      "cell_type": "markdown",
      "source": [
        "# **Cifrados por Transposición (Ejercicio 1)**\n",
        "---"
      ],
      "metadata": {
        "id": "XPGjvZTSdmZH"
      }
    },
    {
      "cell_type": "markdown",
      "source": [
        "Algoritmo que escriba todas las permutaciones posibles de una palabra de longitud n SIN espacios (Anagrama). La palabra se ingresa al iniciar el algoritmo. El algoritmo debe mostrar el número total de permutaciones y las 10 primeras ordenadas alfabéticamente."
      ],
      "metadata": {
        "id": "E03I-Y7ghb0M"
      }
    },
    {
      "cell_type": "code",
      "execution_count": null,
      "metadata": {
        "colab": {
          "base_uri": "https://localhost:8080/"
        },
        "id": "8zuloVdbdJXo",
        "outputId": "ade7d503-cc56-4fd0-d792-ad11b112794b"
      },
      "outputs": [
        {
          "output_type": "stream",
          "name": "stdout",
          "text": [
            "Ingrese una palabra: murcielago\n",
            "Número total de permutaciones: 3628800\n",
            "Primeras 10 permutaciones ordenadas alfabéticamente:\n",
            "acegilmoru\n",
            "acegilmour\n",
            "acegilmrou\n",
            "acegilmruo\n",
            "acegilmuor\n",
            "acegilmuro\n",
            "acegilomru\n",
            "acegilomur\n",
            "acegilormu\n",
            "acegilorum\n"
          ]
        }
      ],
      "source": [
        "import itertools\n",
        "\n",
        "def generarAnagramas(palabra):\n",
        "    if not palabra:\n",
        "        print(\"La palabra no puede estar vacía.\")\n",
        "        return\n",
        "    permutaciones = set(itertools.permutations(palabra))\n",
        "    anagramas = [''.join(p) for p in permutaciones]\n",
        "    anagramas.sort()\n",
        "\n",
        "    print(f\"Número total de permutaciones: {len(anagramas)}\")\n",
        "    print(\"Primeras 10 permutaciones ordenadas alfabéticamente:\")\n",
        "    for anagrama in anagramas[:10]:\n",
        "        print(anagrama)\n",
        "\n",
        "palabra = input(\"Ingrese una palabra: \").replace(\" \", \"\")\n",
        "generarAnagramas(palabra)"
      ]
    },
    {
      "cell_type": "markdown",
      "source": [
        "# **Cifrado de Transposición por Filas (Ejercicio 2)**\n",
        "---"
      ],
      "metadata": {
        "id": "I6t3GjPBecCh"
      }
    },
    {
      "cell_type": "markdown",
      "source": [
        "Algoritmo que realice el cifrado de un mensaje por permutación de filas, teniendo como clave n filas. Tanto n como el texto del mensaje se ingresan al iniciar el algoritmo. El algoritmo debe controlar que el número de caracteres del mensaje (sin espacios), sea menor o igual que n x n. Imprima la matriz de cifrado, el mensaje original y el mensaje cifrado. Si en la matriz de cifrado sobran espacios para almacenar los caracteres del mensaje original, estos deben llenarse con \"*\"."
      ],
      "metadata": {
        "id": "Pg551AvnhrJc"
      }
    },
    {
      "cell_type": "code",
      "source": [
        "import random\n",
        "\n",
        "def crearMatriz(mensaje, n):\n",
        "    matriz = []\n",
        "    index = 0\n",
        "    for _ in range(n):\n",
        "        fila = []\n",
        "        for _ in range(n):\n",
        "            if index < len(mensaje):\n",
        "                fila.append(mensaje[index])\n",
        "                index += 1\n",
        "            else:\n",
        "                fila.append(\"*\")\n",
        "        matriz.append(fila)\n",
        "    return matriz\n",
        "\n",
        "def imprimirMatriz(matriz):\n",
        "    for fila in matriz:\n",
        "        print(\" \".join(fila))\n",
        "\n",
        "def transponerMatriz(matriz):\n",
        "    return [list(col) for col in zip(*matriz)]\n",
        "\n",
        "def cifrarMensaje(matriz):\n",
        "    matriz_transpuesta = transponerMatriz(matriz)\n",
        "    mensaje_cifrado = \"\".join(\"\".join(fila) for fila in matriz_transpuesta)\n",
        "    return mensaje_cifrado\n",
        "\n",
        "while True:\n",
        "    try:\n",
        "        n = int(input(\"Ingrese el número de filas (n): \"))\n",
        "        if n <= 0:\n",
        "            print(\"El número debe ser mayor que 0. Inténtalo de nuevo.\")\n",
        "        else:\n",
        "            break\n",
        "    except ValueError:\n",
        "        print(\"Entrada no válida. Por favor, ingresa un número entero.\")\n",
        "\n",
        "while True:\n",
        "    mensaje = input(\"Ingrese el mensaje: \").replace(\" \", \"\")\n",
        "    if mensaje:\n",
        "        break\n",
        "    else:\n",
        "        print(\"El mensaje no puede estar vacío. Inténtalo de nuevo.\")\n",
        "\n",
        "limite = n * n\n",
        "if len(mensaje) > limite:\n",
        "    print(f\"El mensaje es demasiado largo. Máximo permitido: {limite} caracteres.\")\n",
        "else:\n",
        "    matriz = crearMatriz(mensaje, n)\n",
        "    print(\"\\nMatriz original:\")\n",
        "    imprimirMatriz(matriz)\n",
        "    print(f\"\\nMensaje original: {mensaje}\")\n",
        "    orden = list(range(n))\n",
        "    random.shuffle(orden)\n",
        "    matriz_permutada = [matriz[i] for i in orden]\n",
        "    print(\"\\nMatriz con filas permutadas:\")\n",
        "    imprimirMatriz(matriz_permutada)\n",
        "    mensaje_cifrado = cifrarMensaje(matriz_permutada)\n",
        "    print(f\"\\nMensaje cifrado: {mensaje_cifrado}\")\n",
        "    print(f\"Orden de permutación de filas usado: {orden}\")"
      ],
      "metadata": {
        "colab": {
          "base_uri": "https://localhost:8080/"
        },
        "id": "PLlnjMwjemSQ",
        "outputId": "a26d8559-4c92-4d76-9b27-3b0f40237a46"
      },
      "execution_count": null,
      "outputs": [
        {
          "output_type": "stream",
          "name": "stdout",
          "text": [
            "Ingrese el número de filas (n): 3\n",
            "Ingrese el mensaje: hola mundo\n",
            "\n",
            "Matriz original:\n",
            "h o l\n",
            "a m u\n",
            "n d o\n",
            "\n",
            "Mensaje original: holamundo\n",
            "\n",
            "Matriz con filas permutadas:\n",
            "n d o\n",
            "h o l\n",
            "a m u\n",
            "\n",
            "Mensaje cifrado: nhadomolu\n",
            "Orden de permutación de filas usado: [2, 0, 1]\n"
          ]
        }
      ]
    },
    {
      "cell_type": "markdown",
      "source": [
        "# **Cifrado de Transposición por Columnas (Ejercicio 3)**\n",
        "\n",
        "---"
      ],
      "metadata": {
        "id": "aNl5VbhYfKk6"
      }
    },
    {
      "cell_type": "markdown",
      "source": [
        "Algoritmo que realice el cifrado de un mensaje por permutación de columnas, teniendo como clave n columnas. Tanto n como el texto del mensaje se ingresan al iniciar el algoritmo. El algoritmo debe controlar que el número de caracteres del mensaje (sin espacios), sea menor o igual que n x n. Imprima la matriz de cifrado, el mensaje original y el mensaje cifrado.  Si en la matriz de cifrado sobran espacios para almacenar los caracteres del mensaje original, estos deben llenarse con \"*\"."
      ],
      "metadata": {
        "id": "twhRoVk4hu4J"
      }
    },
    {
      "cell_type": "code",
      "source": [
        "def es_entero_positivo(valor):\n",
        "    try:\n",
        "        numero = int(valor)\n",
        "        return numero > 0\n",
        "    except ValueError:\n",
        "        return False\n",
        "\n",
        "while True:\n",
        "    n_input = input(\"Ingrese el número de columnas (n): \")\n",
        "    if not es_entero_positivo(n_input):\n",
        "        print(\"Error: Debe ingresar un número entero positivo.\")\n",
        "    else:\n",
        "        n = int(n_input)\n",
        "        break\n",
        "\n",
        "while True:\n",
        "    mensaje = input(\"Ingrese el mensaje a cifrar: \").strip()\n",
        "    if not mensaje:\n",
        "        print(\"Error: El mensaje no puede estar vacío.\")\n",
        "    else:\n",
        "        break\n",
        "\n",
        "mensaje_sin_espacios = mensaje.replace(\" \", \"\")\n",
        "longitud = len(mensaje_sin_espacios)\n",
        "\n",
        "filas = (longitud + n - 1) // n\n",
        "\n",
        "relleno = filas * n - longitud\n",
        "mensaje_completo = mensaje_sin_espacios + \"*\" * relleno\n",
        "\n",
        "matriz = []\n",
        "indice = 0\n",
        "for i in range(filas):\n",
        "    fila = []\n",
        "    for j in range(n):\n",
        "        fila.append(mensaje_completo[indice])\n",
        "        indice += 1\n",
        "    matriz.append(fila)\n",
        "\n",
        "print(\"\\n--- Matriz Original (por filas) ---\")\n",
        "for fila in matriz:\n",
        "    print(\" \".join(fila))\n",
        "\n",
        "permutacion = list(range(n))\n",
        "permutacion.reverse()  # Por ejemplo: [2, 1, 0] si n = 3\n",
        "print(\"\\nPermutación de columnas aplicada automáticamente:\", permutacion)\n",
        "\n",
        "# Aplicar permutación de columnas\n",
        "matriz_permutada = []\n",
        "for fila in matriz:\n",
        "    nueva_fila = [fila[permutacion[i]] for i in range(n)]\n",
        "    matriz_permutada.append(nueva_fila)\n",
        "\n",
        "print(\"\\n--- Matriz con columnas permutadas ---\")\n",
        "for fila in matriz_permutada:\n",
        "    print(\" \".join(fila))\n",
        "\n",
        "# Transponer la matriz\n",
        "transpuesta = []\n",
        "for j in range(n):\n",
        "    nueva_fila = []\n",
        "    for i in range(filas):\n",
        "        nueva_fila.append(matriz_permutada[i][j])\n",
        "    transpuesta.append(nueva_fila)\n",
        "\n",
        "mensaje_cifrado = \"\"\n",
        "for j in range(n):\n",
        "    for i in range(filas):\n",
        "        mensaje_cifrado += transpuesta[j][i]\n",
        "\n",
        "print(\"\\n--- Mensaje Cifrado ---\")\n",
        "print(mensaje_cifrado)"
      ],
      "metadata": {
        "colab": {
          "base_uri": "https://localhost:8080/"
        },
        "id": "kkq6iM9Gffdi",
        "outputId": "3730c28a-44c6-42ed-bc55-a47db89b915b"
      },
      "execution_count": null,
      "outputs": [
        {
          "output_type": "stream",
          "name": "stdout",
          "text": [
            "Ingrese el número de columnas (n): 3\n",
            "Ingrese el mensaje a cifrar: hola mundo\n",
            "\n",
            "--- Matriz Original (por filas) ---\n",
            "h o l\n",
            "a m u\n",
            "n d o\n",
            "\n",
            "Permutación de columnas aplicada automáticamente: [2, 1, 0]\n",
            "\n",
            "--- Matriz con columnas permutadas ---\n",
            "l o h\n",
            "u m a\n",
            "o d n\n",
            "\n",
            "--- Mensaje Cifrado ---\n",
            "luoomdhan\n"
          ]
        }
      ]
    },
    {
      "cell_type": "markdown",
      "source": [
        "# **El cifrado César (Ejercicio 4)**\n",
        "\n",
        "---"
      ],
      "metadata": {
        "id": "QxQDPE8wgWlU"
      }
    },
    {
      "cell_type": "markdown",
      "source": [
        "Algoritmo que realice el cifrado de una cadena de caracteres mediante un método de sustitución Monoalfabético de desplazamiento n caracteres a la derecha. Tanto la palabra como el valor de n se ingresan al iniciar el algoritmo. El algoritmo debe mostrar el alfabeto original, el alfabeto cifrado, la cadena de caracteres ingresada y su resultado."
      ],
      "metadata": {
        "id": "LKpIIq22iZa5"
      }
    },
    {
      "cell_type": "code",
      "source": [
        "def cifrado_cesar():\n",
        "    alfabeto = \"ABCDEFGHIJKLMNÑOPQRSTUVWXYZ\"\n",
        "\n",
        "    cadena = input(\"Ingresa la cadena de caracteres a cifrar: \").strip().upper()\n",
        "    if not cadena:\n",
        "        print(\"Error: No ingresaste ningún texto para cifrar.\")\n",
        "        return\n",
        "\n",
        "    entrada_n = input(\"Ingresa el valor de desplazamiento (n): \").strip()\n",
        "    if not entrada_n:\n",
        "        print(\"Error: No ingresaste ningún valor para el desplazamiento.\")\n",
        "        return\n",
        "\n",
        "    if not entrada_n.isdigit():\n",
        "        print(\"Error: El valor de desplazamiento debe ser un número entero no negativo.\")\n",
        "        return\n",
        "\n",
        "    n = int(entrada_n)\n",
        "    if n < 0:\n",
        "        print(\"Error: No se puede utilizar un número negativo como desplazamiento.\")\n",
        "        return\n",
        "\n",
        "    n = n % len(alfabeto)\n",
        "    alfabeto_cifrado = alfabeto[n:] + alfabeto[:n]\n",
        "\n",
        "    resultado = \"\"\n",
        "    for caracter in cadena:\n",
        "        if caracter in alfabeto:\n",
        "            indice = alfabeto.index(caracter)\n",
        "            resultado += alfabeto_cifrado[indice]\n",
        "        else:\n",
        "            resultado += caracter\n",
        "\n",
        "    print(\"\\n--- Resultado ---\")\n",
        "    print(\"Alfabeto original: \", alfabeto)\n",
        "    print(\"Alfabeto cifrado:  \", alfabeto_cifrado)\n",
        "    print(\"Cadena ingresada:  \", cadena)\n",
        "    print(\"Cadena cifrada:    \", resultado)\n",
        "\n",
        "if __name__ == \"__main__\":\n",
        "    cifrado_cesar()"
      ],
      "metadata": {
        "colab": {
          "base_uri": "https://localhost:8080/"
        },
        "id": "V2MDiE2ggb-F",
        "outputId": "83150407-17c5-4509-c7e8-cf9fbc1de837"
      },
      "execution_count": null,
      "outputs": [
        {
          "output_type": "stream",
          "name": "stdout",
          "text": [
            "Ingresa la cadena de caracteres a cifrar: hola mundo\n",
            "Ingresa el valor de desplazamiento (n): 6\n",
            "\n",
            "--- Resultado ---\n",
            "Alfabeto original:  ABCDEFGHIJKLMNÑOPQRSTUVWXYZ\n",
            "Alfabeto cifrado:   GHIJKLMNÑOPQRSTUVWXYZABCDEF\n",
            "Cadena ingresada:   HOLA MUNDO\n",
            "Cadena cifrada:     NUQG RASJU\n"
          ]
        }
      ]
    },
    {
      "cell_type": "markdown",
      "source": [
        "# **Cifrado De Vigenére (Ejercicio 5)**\n",
        "\n",
        "---"
      ],
      "metadata": {
        "id": "JfR_YelPgrK-"
      }
    },
    {
      "cell_type": "markdown",
      "source": [
        "Algoritmo que realice el cifrado de una cadena de caracteres mediante un método de sustitución Polialfabético de Vigenère. La cadena se ingresa al iniciar el algoritmo. El algoritmo debe mostrar la cadena de caracteres ingresada, la clave de cifrado y la cadena de caracteres cifrada."
      ],
      "metadata": {
        "id": "GCj7vTEAic-o"
      }
    },
    {
      "cell_type": "code",
      "source": [
        "def expandir_clave(mensaje, clave):\n",
        "    clave_expandida = ''\n",
        "    indice = 0\n",
        "    for letra in mensaje:\n",
        "        if letra.isalpha():\n",
        "            clave_expandida += clave[indice % len(clave)]\n",
        "            indice += 1\n",
        "        else:\n",
        "            clave_expandida += letra\n",
        "    return clave_expandida\n",
        "\n",
        "def mostrar_matriz_vigenere():\n",
        "    alfabeto = 'ABCDEFGHIJKLMNOPQRSTUVWXYZ'\n",
        "    matriz = []\n",
        "\n",
        "    print(\"\\n--- Matriz de Vigenère ---\")\n",
        "    print(\"   \" + \" \".join(alfabeto))\n",
        "    for i in range(26):\n",
        "        fila = alfabeto[i:] + alfabeto[:i]\n",
        "        matriz.append(fila)\n",
        "        print(f\"{alfabeto[i]}: \" + \" \".join(fila))\n",
        "\n",
        "def cifrar_vigenere(mensaje, clave_expandida):\n",
        "    mensaje = mensaje.upper()\n",
        "    mensaje_cifrado = ''\n",
        "\n",
        "    for m, k in zip(mensaje, clave_expandida):\n",
        "        if m.isalpha():\n",
        "            m_pos = ord(m) - ord('A')\n",
        "            k_pos = ord(k) - ord('A')\n",
        "            c_pos = (m_pos + k_pos) % 26\n",
        "            mensaje_cifrado += chr(c_pos + ord('A'))\n",
        "        else:\n",
        "            mensaje_cifrado += m\n",
        "\n",
        "    return mensaje_cifrado\n",
        "\n",
        "while True:\n",
        "    mensaje = input(\"Ingresa el mensaje a cifrar: \").strip()\n",
        "    if mensaje:\n",
        "        break\n",
        "    else:\n",
        "        print(\"El mensaje no puede estar vacío. Intenta de nuevo.\")\n",
        "\n",
        "while True:\n",
        "    clave = input(\"Ingresa la clave de cifrado (solo letras): \").strip()\n",
        "    if clave and clave.isalpha():\n",
        "        break\n",
        "    elif not clave:\n",
        "        print(\"La clave no puede estar vacía. Intenta de nuevo.\")\n",
        "    else:\n",
        "        print(\"La clave debe contener solo letras. Intenta de nuevo.\")\n",
        "\n",
        "mensaje_mayus = mensaje.upper()\n",
        "clave_mayus = clave.upper()\n",
        "clave_expandida = expandir_clave(mensaje_mayus, clave_mayus)\n",
        "mensaje_cifrado = cifrar_vigenere(mensaje, clave_expandida)\n",
        "\n",
        "print(\"\\n--- Resultado ---\")\n",
        "print(f\"Mensaje original     : {mensaje}\")\n",
        "print(f\"Clave de cifrado     : {clave_expandida}\")\n",
        "print(f\"Mensaje cifrado      : {mensaje_cifrado}\")\n",
        "\n",
        "mostrar_matriz_vigenere()"
      ],
      "metadata": {
        "colab": {
          "base_uri": "https://localhost:8080/"
        },
        "id": "RjU3_OZkgwlM",
        "outputId": "6738c86b-dffa-4403-8218-879e04de6962"
      },
      "execution_count": null,
      "outputs": [
        {
          "output_type": "stream",
          "name": "stdout",
          "text": [
            "Ingresa el mensaje a cifrar: hola mundo\n",
            "Ingresa la clave de cifrado (solo letras): auto\n",
            "\n",
            "--- Resultado ---\n",
            "Mensaje original     : hola mundo\n",
            "Clave de cifrado     : AUTO AUTOA\n",
            "Mensaje cifrado      : HIEO MOGRO\n",
            "\n",
            "--- Matriz de Vigenère ---\n",
            "   A B C D E F G H I J K L M N O P Q R S T U V W X Y Z\n",
            "A: A B C D E F G H I J K L M N O P Q R S T U V W X Y Z\n",
            "B: B C D E F G H I J K L M N O P Q R S T U V W X Y Z A\n",
            "C: C D E F G H I J K L M N O P Q R S T U V W X Y Z A B\n",
            "D: D E F G H I J K L M N O P Q R S T U V W X Y Z A B C\n",
            "E: E F G H I J K L M N O P Q R S T U V W X Y Z A B C D\n",
            "F: F G H I J K L M N O P Q R S T U V W X Y Z A B C D E\n",
            "G: G H I J K L M N O P Q R S T U V W X Y Z A B C D E F\n",
            "H: H I J K L M N O P Q R S T U V W X Y Z A B C D E F G\n",
            "I: I J K L M N O P Q R S T U V W X Y Z A B C D E F G H\n",
            "J: J K L M N O P Q R S T U V W X Y Z A B C D E F G H I\n",
            "K: K L M N O P Q R S T U V W X Y Z A B C D E F G H I J\n",
            "L: L M N O P Q R S T U V W X Y Z A B C D E F G H I J K\n",
            "M: M N O P Q R S T U V W X Y Z A B C D E F G H I J K L\n",
            "N: N O P Q R S T U V W X Y Z A B C D E F G H I J K L M\n",
            "O: O P Q R S T U V W X Y Z A B C D E F G H I J K L M N\n",
            "P: P Q R S T U V W X Y Z A B C D E F G H I J K L M N O\n",
            "Q: Q R S T U V W X Y Z A B C D E F G H I J K L M N O P\n",
            "R: R S T U V W X Y Z A B C D E F G H I J K L M N O P Q\n",
            "S: S T U V W X Y Z A B C D E F G H I J K L M N O P Q R\n",
            "T: T U V W X Y Z A B C D E F G H I J K L M N O P Q R S\n",
            "U: U V W X Y Z A B C D E F G H I J K L M N O P Q R S T\n",
            "V: V W X Y Z A B C D E F G H I J K L M N O P Q R S T U\n",
            "W: W X Y Z A B C D E F G H I J K L M N O P Q R S T U V\n",
            "X: X Y Z A B C D E F G H I J K L M N O P Q R S T U V W\n",
            "Y: Y Z A B C D E F G H I J K L M N O P Q R S T U V W X\n",
            "Z: Z A B C D E F G H I J K L M N O P Q R S T U V W X Y\n"
          ]
        }
      ]
    },
    {
      "cell_type": "markdown",
      "source": [
        "# **Cifrado de Polibio (Ejercicio 6)**\n",
        "---"
      ],
      "metadata": {
        "id": "yaKhVkjMhB0r"
      }
    },
    {
      "cell_type": "markdown",
      "source": [
        "Algoritmo que realice el cifrado de una cadena de caracteres utilizando la siguiente tabla de cifrado:\n",
        "\n",
        "![image.png](data:image/png;base64,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)\n",
        "\n",
        "\n",
        "La cadena de caracteres se ingresa al iniciar el programa. Si algún caracter del texto no existe en la matriz, coloque \"**\". Imprima la matriz de cifrado, el mensaje original y el mensaje cifrado."
      ],
      "metadata": {
        "id": "U4PmQMAOihnY"
      }
    },
    {
      "cell_type": "code",
      "source": [
        "def crear_tabla_cifrado():\n",
        "    tabla = {}\n",
        "    filas = ['Q', 'W', 'E', 'R', 'T']\n",
        "    columnas = ['A', 'S', 'D', 'F', 'G']\n",
        "\n",
        "    letras = \"abcdefghijklmnopqrstuvxyz\"\n",
        "    idx = 0\n",
        "\n",
        "    for fila in filas:\n",
        "        for columna in columnas:\n",
        "            if idx < len(letras):\n",
        "                tabla[letras[idx]] = fila + columna\n",
        "                idx += 1\n",
        "    return tabla\n",
        "\n",
        "def imprimir_matriz(tabla):\n",
        "    print(\"Matriz de Cifrado:\")\n",
        "    print(\"   A  S  D  F  G\")\n",
        "\n",
        "    filas = ['Q', 'W', 'E', 'R', 'T']\n",
        "    columnas = ['A', 'S', 'D', 'F', 'G']\n",
        "\n",
        "    letras = \"abcdefghijklmnopqrstuvxyz\"\n",
        "    idx = 0\n",
        "\n",
        "    for fila in filas:\n",
        "        print(f\"{fila} \", end=\"\")\n",
        "        for columna in columnas:\n",
        "            if idx < len(letras):\n",
        "                print(f\" {letras[idx]} \", end=\"\")\n",
        "                idx += 1\n",
        "            else:\n",
        "                print(\"   \", end=\"\")\n",
        "        print()\n",
        "\n",
        "def cifrar_mensaje(mensaje, tabla):\n",
        "    resultado = \"\"\n",
        "    for c in mensaje.lower():\n",
        "        if c in tabla:\n",
        "            resultado += tabla[c]\n",
        "        else:\n",
        "            resultado += \"**\"\n",
        "    return resultado\n",
        "\n",
        "def main():\n",
        "    tabla = crear_tabla_cifrado()\n",
        "    imprimir_matriz(tabla)\n",
        "\n",
        "    mensaje = input(\"\\nIngrese el mensaje a cifrar: \")\n",
        "\n",
        "    print(\"Mensaje original:\", mensaje)\n",
        "    print(\"Mensaje cifrado:\", cifrar_mensaje(mensaje, tabla))\n",
        "\n",
        "if __name__ == \"__main__\":\n",
        "    main()"
      ],
      "metadata": {
        "colab": {
          "base_uri": "https://localhost:8080/"
        },
        "id": "cJ0KLIi0hE8c",
        "outputId": "5bb4fc13-b74e-46d5-a9a1-f01634b9cbc0"
      },
      "execution_count": null,
      "outputs": [
        {
          "output_type": "stream",
          "name": "stdout",
          "text": [
            "Matriz de Cifrado:\n",
            "   A  S  D  F  G\n",
            "Q  a  b  c  d  e \n",
            "W  f  g  h  i  j \n",
            "E  k  l  m  n  o \n",
            "R  p  q  r  s  t \n",
            "T  u  v  x  y  z \n",
            "\n",
            "Ingrese el mensaje a cifrar: hola mundo\n",
            "Mensaje original: hola mundo\n",
            "Mensaje cifrado: WDEGESQA**EDTAEFQFEG\n"
          ]
        }
      ]
    }
  ]
}